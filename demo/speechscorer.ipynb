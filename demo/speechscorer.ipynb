{
  "nbformat": 4,
  "nbformat_minor": 0,
  "metadata": {
    "colab": {
      "private_outputs": true,
      "provenance": [],
      "machine_shape": "hm",
      "gpuType": "V100",
      "authorship_tag": "ABX9TyMZ7PIgbgGdnmEv74mXNg3s",
      "include_colab_link": true
    },
    "kernelspec": {
      "name": "python3",
      "display_name": "Python 3"
    },
    "language_info": {
      "name": "python"
    }
  },
  "cells": [
    {
      "cell_type": "markdown",
      "metadata": {
        "id": "view-in-github",
        "colab_type": "text"
      },
      "source": [
        "<a href=\"https://colab.research.google.com/github/yaya-sy/speechscorer/blob/main/demo/speechscorer.ipynb\" target=\"_parent\"><img src=\"https://colab.research.google.com/assets/colab-badge.svg\" alt=\"Open In Colab\"/></a>"
      ]
    },
    {
      "cell_type": "markdown",
      "source": [
        "# Installation"
      ],
      "metadata": {
        "id": "KJNTuP1XEUBN"
      }
    },
    {
      "cell_type": "markdown",
      "source": [
        "## Install torch"
      ],
      "metadata": {
        "id": "r48pZ7HTEdfA"
      }
    },
    {
      "cell_type": "code",
      "source": [
        "!pip3 uninstall torch torchaudio torchvision -y"
      ],
      "metadata": {
        "id": "MYLOADHZNsW5"
      },
      "execution_count": null,
      "outputs": []
    },
    {
      "cell_type": "code",
      "source": [
        "!pip3 install torch torchvision torchaudio --index-url https://download.pytorch.org/whl/cu118"
      ],
      "metadata": {
        "id": "tg-xDnQAMFOU"
      },
      "execution_count": null,
      "outputs": []
    },
    {
      "cell_type": "code",
      "source": [
        "!pip3 install tensorboardX"
      ],
      "metadata": {
        "id": "VDlMzw6ZoabA"
      },
      "execution_count": null,
      "outputs": []
    },
    {
      "cell_type": "markdown",
      "source": [
        "## Install speechscorer"
      ],
      "metadata": {
        "id": "QceSeMDfEf03"
      }
    },
    {
      "cell_type": "code",
      "execution_count": null,
      "metadata": {
        "id": "ro8v1DzaAQoi"
      },
      "outputs": [],
      "source": [
        "!pip3 install git+https://github.com/yaya-sy/speechscorer.git"
      ]
    },
    {
      "cell_type": "markdown",
      "source": [
        "# Scoring a simple utterance"
      ],
      "metadata": {
        "id": "0fPkEQ2XfoQa"
      }
    },
    {
      "cell_type": "code",
      "source": [
        "!sudo apt-get install subversion"
      ],
      "metadata": {
        "id": "ADsGvqSyyLFr"
      },
      "execution_count": null,
      "outputs": []
    },
    {
      "cell_type": "code",
      "source": [
        "!svn export https://github.com/jimbozhang/speechocean762/trunk/WAVE/SPEAKER0001/000010011.WAV"
      ],
      "metadata": {
        "id": "rkbt_Tegfz00"
      },
      "execution_count": null,
      "outputs": []
    },
    {
      "cell_type": "code",
      "source": [
        "!speechscore -a 000010011.WAV"
      ],
      "metadata": {
        "id": "kOXLMcjDzgge"
      },
      "execution_count": null,
      "outputs": []
    },
    {
      "cell_type": "markdown",
      "source": [
        "# Scoring english learners utterances"
      ],
      "metadata": {
        "id": "MnLb4v9i9AN2"
      }
    },
    {
      "cell_type": "markdown",
      "source": [
        "For this experiment, we will use HuBERT-Large model. For this model, we will need to download the checkpoint:"
      ],
      "metadata": {
        "id": "SYdelkhpmH_4"
      }
    },
    {
      "cell_type": "code",
      "source": [
        "!wget https://dl.fbaipublicfiles.com/hubert/hubert_large_ll60k.pt"
      ],
      "metadata": {
        "id": "HtIC9J1RCWFY"
      },
      "execution_count": null,
      "outputs": []
    },
    {
      "cell_type": "markdown",
      "source": [
        "## Use the speechocean762 dataset."
      ],
      "metadata": {
        "id": "nG-OWKmz-SHo"
      }
    },
    {
      "cell_type": "code",
      "source": [
        "!git clone https://github.com/jimbozhang/speechocean762.git"
      ],
      "metadata": {
        "id": "cGCy-MIG-LZS"
      },
      "execution_count": null,
      "outputs": []
    },
    {
      "cell_type": "code",
      "source": [
        "from shutil import copy\n",
        "from pathlib import Path\n",
        "\n",
        "wav_scp = \"speechocean762/test/wav.scp\"\n",
        "output_folder = Path(\"test_wavs\")\n",
        "output_folder.mkdir(exist_ok=True, parents=True)\n",
        "with open(wav_scp, \"r\") as utterance_ids:\n",
        "    for line in utterance_ids:\n",
        "        line = line.strip()\n",
        "        _, path = line.split(\"\\t\")\n",
        "        copy(f\"speechocean762/{path}\", \"test_wavs\")"
      ],
      "metadata": {
        "id": "2qhD4JlT-caW"
      },
      "execution_count": null,
      "outputs": []
    },
    {
      "cell_type": "markdown",
      "source": [
        "## Run the scorer"
      ],
      "metadata": {
        "id": "E-lCXSdc_R4t"
      }
    },
    {
      "cell_type": "code",
      "source": [
        "!speechscore -h"
      ],
      "metadata": {
        "id": "EohLgUEjitOz"
      },
      "execution_count": null,
      "outputs": []
    },
    {
      "cell_type": "code",
      "source": [
        "!speechscore -a test_wavs/ -m hubert_large_ll60k.pt -s hubert-mlm -d longest -p facebook/hubert-large-ls960-ft --use-gpu"
      ],
      "metadata": {
        "id": "HprPRKacAb16"
      },
      "execution_count": null,
      "outputs": []
    },
    {
      "cell_type": "markdown",
      "source": [
        "## Results"
      ],
      "metadata": {
        "id": "d3kNVn9_lUWn"
      }
    },
    {
      "cell_type": "code",
      "source": [
        "import json\n",
        "import pandas as pd\n",
        "\n",
        "dataframe = []\n",
        "with open(\"speechocean762/test/all-info.json\", \"r\") as json_file:\n",
        "    targets = json.load(json_file)\n",
        "    for utterance_id in targets:\n",
        "        scores = {\"utterance_id\": utterance_id}\n",
        "        for score in targets[utterance_id]:\n",
        "            if score in {\"words\", \"text\"}:\n",
        "                continue\n",
        "            scores[score] = targets[utterance_id][score]\n",
        "        dataframe.append(scores)\n",
        "\n",
        "dataframe = pd.DataFrame(dataframe)\n",
        "dataframe.to_csv(\"results/scores.csv\", index=None)"
      ],
      "metadata": {
        "id": "Uys2qMhIlThD"
      },
      "execution_count": null,
      "outputs": []
    },
    {
      "cell_type": "code",
      "source": [
        "scores = pd.read_csv(\"results/scores.csv\")\n",
        "preds = pd.read_csv(\"results/results.csv\")\n",
        "merged = preds.merge(scores, on=\"utterance_id\")\n",
        "merged = merged.drop(columns=[\"gender\"])\n",
        "merged = merged.groupby(by=[\"age\"]).mean()"
      ],
      "metadata": {
        "id": "wXqSdBCco8NR"
      },
      "execution_count": null,
      "outputs": []
    },
    {
      "cell_type": "code",
      "source": [
        "import matplotlib.pyplot as plt\n",
        "plt.style.use(\"ggplot\")"
      ],
      "metadata": {
        "id": "_tOzylfnp4zX"
      },
      "execution_count": null,
      "outputs": []
    },
    {
      "cell_type": "code",
      "source": [
        "fig = plt.figure()\n",
        "\n",
        "plt.scatter(\n",
        "    x=merged[\"total\"],\n",
        "    y=merged[\"entropy\"],\n",
        "    color=\"lightgreen\",\n",
        "    ec=\"black\",\n",
        "    marker=\"o\",\n",
        ")\n",
        "ax = plt.gca()\n",
        "\n",
        "plt.title(\"English language learners scores as assigned by HuBERT and humans\\n(Dataset: speechocean762)\")\n",
        "plt.ylabel(\"HuBERT-assignd score (entropy)\")\n",
        "plt.xlabel(\"Human-assigned score\")\n",
        "# ax.set_facecolor('xkcd:salmon')\n",
        "plt.show()"
      ],
      "metadata": {
        "id": "Lrr3d-aipIV1"
      },
      "execution_count": null,
      "outputs": []
    },
    {
      "cell_type": "code",
      "source": [
        "fig.savefig(\"hubert-mlm-scorer.svg\", dpi=420, format=\"svg\")"
      ],
      "metadata": {
        "id": "QSVS6qwWsgKR"
      },
      "execution_count": null,
      "outputs": []
    }
  ]
}